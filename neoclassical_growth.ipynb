{
  "nbformat": 4,
  "nbformat_minor": 0,
  "metadata": {
    "colab": {
      "provenance": [],
      "authorship_tag": "ABX9TyPnBSBVLheywAWUAGQwuK4O",
      "include_colab_link": true
    },
    "kernelspec": {
      "name": "python3",
      "display_name": "Python 3"
    },
    "language_info": {
      "name": "python"
    }
  },
  "cells": [
    {
      "cell_type": "markdown",
      "metadata": {
        "id": "view-in-github",
        "colab_type": "text"
      },
      "source": [
        "<a href=\"https://colab.research.google.com/github/conorsbayliss/jax/blob/master/neoclassical_growth.ipynb\" target=\"_parent\"><img src=\"https://colab.research.google.com/assets/colab-badge.svg\" alt=\"Open In Colab\"/></a>"
      ]
    },
    {
      "cell_type": "code",
      "source": [
        "import jax.numpy as jnp\n",
        "import matplotlib as plt"
      ],
      "metadata": {
        "id": "Xrsw-pr-0B6Q"
      },
      "execution_count": 2,
      "outputs": []
    },
    {
      "cell_type": "code",
      "source": [
        "def neoclassical_growth_model(A = 10,\n",
        "                              beta = 0.95,\n",
        "                              alpha = 0.33,\n",
        "                              delta = 0.1,\n",
        "                              lb = 0.0,\n",
        "                              ub = 100.0,\n",
        "                              nk = 101):\n",
        "\n",
        "  capital_grid = jnp.linspace(lb, ub, nk)\n",
        "\n",
        "  params = A, alpha, beta, delta\n",
        "  sizes = nk\n",
        "  arrays = capital_grid\n",
        "\n",
        "  return params, sizes, arrays"
      ],
      "metadata": {
        "id": "m5z2_6VeDeb1"
      },
      "execution_count": 11,
      "outputs": []
    },
    {
      "cell_type": "code",
      "source": [],
      "metadata": {
        "id": "uJwa-v0qGRnL"
      },
      "execution_count": null,
      "outputs": []
    }
  ]
}